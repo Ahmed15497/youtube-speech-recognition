{
  "nbformat": 4,
  "nbformat_minor": 0,
  "metadata": {
    "colab": {
      "name": "Youtube_Dataset_Speech_Download.ipynb",
      "private_outputs": true,
      "provenance": [],
      "collapsed_sections": [],
      "toc_visible": true
    },
    "kernelspec": {
      "name": "python3",
      "display_name": "Python 3"
    },
    "accelerator": "GPU"
  },
  "cells": [
    {
      "cell_type": "markdown",
      "metadata": {
        "id": "lJu5mytuSR6a"
      },
      "source": [
        "# **Installing the needed libs**"
      ]
    },
    {
      "cell_type": "code",
      "metadata": {
        "id": "sTtgatFX7n3j"
      },
      "source": [
        "from google.colab import drive\n",
        "drive.mount('/content/drive')"
      ],
      "execution_count": null,
      "outputs": []
    },
    {
      "cell_type": "code",
      "metadata": {
        "id": "VwyfuntbRjT_"
      },
      "source": [
        "!pip install youtube-mp3-downloader\n",
        "!pip install youtube-transcript-api\n",
        "!pip install youtube_dl\n",
        "!pip install pydub"
      ],
      "execution_count": null,
      "outputs": []
    },
    {
      "cell_type": "markdown",
      "metadata": {
        "id": "HX0tVKARFqhI"
      },
      "source": [
        "# **Get Videos IDs given text file**"
      ]
    },
    {
      "cell_type": "code",
      "metadata": {
        "id": "bmDCfeR7F82T"
      },
      "source": [
        "def get_videos_ID(filename):\n",
        "  return open(filename).read().splitlines()"
      ],
      "execution_count": null,
      "outputs": []
    },
    {
      "cell_type": "markdown",
      "metadata": {
        "id": "TKJe157cR0bR"
      },
      "source": [
        "# **Get subtitles given video ID**"
      ]
    },
    {
      "cell_type": "code",
      "metadata": {
        "id": "jVsvg90Egidq"
      },
      "source": [
        "from youtube_transcript_api import YouTubeTranscriptApi"
      ],
      "execution_count": null,
      "outputs": []
    },
    {
      "cell_type": "code",
      "metadata": {
        "id": "z4Sire9Vm5bS"
      },
      "source": [
        "def get_subtitles(video_id):\n",
        "  try:\n",
        "    subtitles = YouTubeTranscriptApi.get_transcript(video_id, languages=['en'])\n",
        "    return subtitles\n",
        "  except:\n",
        "    return None"
      ],
      "execution_count": null,
      "outputs": []
    },
    {
      "cell_type": "markdown",
      "metadata": {
        "id": "eTsOSiddgpN5"
      },
      "source": [
        "# **Download video in mp3 given video ID**"
      ]
    },
    {
      "cell_type": "code",
      "metadata": {
        "id": "JFXgToKFg9Af"
      },
      "source": [
        "import youtube_dl\n",
        "from __future__ import unicode_literals\n"
      ],
      "execution_count": null,
      "outputs": []
    },
    {
      "cell_type": "code",
      "metadata": {
        "id": "ZGNXunBhDIsD"
      },
      "source": [
        "def download_mp3(video_id):\n",
        "  ydl_opts = {\n",
        "      'format': 'bestaudio/best',\n",
        "      'postprocessors': [{\n",
        "          'key': 'FFmpegExtractAudio',\n",
        "          'preferredcodec': 'mp3',\n",
        "          'preferredquality': '192',\n",
        "      }],\n",
        "  }\n",
        "  url = f\"http://www.youtube.com/watch?v={video_id}\"\n",
        "  with youtube_dl.YoutubeDL(ydl_opts) as ydl:\n",
        "      try:\n",
        "        ydl.download([url])\n",
        "      except:\n",
        "        return None\n",
        "\n",
        "  return 1\n"
      ],
      "execution_count": null,
      "outputs": []
    },
    {
      "cell_type": "markdown",
      "metadata": {
        "id": "Up7I3ag9m7PH"
      },
      "source": [
        "# **Read, Write and hear mp3**"
      ]
    },
    {
      "cell_type": "code",
      "metadata": {
        "id": "4-zaj2BanDbT"
      },
      "source": [
        "import pydub \n",
        "import numpy as np\n",
        "from IPython.display import Audio"
      ],
      "execution_count": null,
      "outputs": []
    },
    {
      "cell_type": "code",
      "metadata": {
        "id": "j8b-VNuRh2GZ"
      },
      "source": [
        "def read(f, normalized=False):\n",
        "    \"\"\"MP3 to numpy array\"\"\"\n",
        "    a = pydub.AudioSegment.from_mp3(f)\n",
        "    y = np.array(a.get_array_of_samples())\n",
        "    if a.channels == 2:\n",
        "        y = y.reshape((-1, 2))\n",
        "        y = y.sum(axis=1) / 2\n",
        "    if normalized:\n",
        "        return a.frame_rate, np.float32(y) / 2**15\n",
        "    else:\n",
        "        return a.frame_rate, y\n",
        "\n",
        "def write(f, sr, x, normalized=False):\n",
        "    \"\"\"numpy array to MP3\"\"\"\n",
        "    channels = 2 if (x.ndim == 2 and x.shape[1] == 2) else 1\n",
        "    if normalized:  # normalized array - each item should be a float in [-1, 1)\n",
        "        y = np.int16(x * 2 ** 15)\n",
        "    else:\n",
        "        y = np.int16(x)\n",
        "    song = pydub.AudioSegment(y.tobytes(), frame_rate=sr, sample_width=2, channels=channels)\n",
        "    song.export(f, format=\"mp3\", bitrate=\"320k\")\n",
        "    return\n"
      ],
      "execution_count": null,
      "outputs": []
    },
    {
      "cell_type": "code",
      "metadata": {
        "id": "P2lWLzeAjlbo"
      },
      "source": [
        "def hear_audio(track, sr):\n",
        "  Audio(track,rate=sr,autoplay=True)\n",
        "  return"
      ],
      "execution_count": null,
      "outputs": []
    },
    {
      "cell_type": "code",
      "metadata": {
        "id": "JcelS-STkrdA"
      },
      "source": [
        "track.shape"
      ],
      "execution_count": null,
      "outputs": []
    },
    {
      "cell_type": "markdown",
      "metadata": {
        "id": "iVKie9_4oEr5"
      },
      "source": [
        "# **Cutting sound according to subtitles**"
      ]
    },
    {
      "cell_type": "code",
      "metadata": {
        "id": "j_qFalUHpB4f"
      },
      "source": [
        "subtitles"
      ],
      "execution_count": null,
      "outputs": []
    },
    {
      "cell_type": "code",
      "metadata": {
        "id": "p0D_fxbLyrI4"
      },
      "source": [
        "# sr, track, subtitles\n",
        "\n",
        "slices = []\n",
        "slices_text = []\n",
        "\n",
        "for subtitle in subtitles:\n",
        "  text = subtitle['text']\n",
        "  text = text.replace('\\n', ' ')\n",
        "  start = int(subtitle['start'] * sr)\n",
        "  end = int(start + subtitle['duration'] * sr)\n",
        "\n",
        "  slice_track = track[start:min(end, track.shape[0])]\n",
        "\n",
        "  slices.append(slice_track)\n",
        "  slices_text.append(text)\n",
        "\n",
        "  #print(text)\n",
        "  #print(start)\n",
        "  #print(duration)\n",
        "\n",
        "  #break"
      ],
      "execution_count": null,
      "outputs": []
    },
    {
      "cell_type": "code",
      "metadata": {
        "id": "Ma5wX2k117zy"
      },
      "source": [
        "sample = 17"
      ],
      "execution_count": null,
      "outputs": []
    },
    {
      "cell_type": "code",
      "metadata": {
        "id": "PSfnc7gm4W_Q"
      },
      "source": [
        "max(map(len, slices_text))"
      ],
      "execution_count": null,
      "outputs": []
    },
    {
      "cell_type": "code",
      "metadata": {
        "id": "xMoBi-Da2E53"
      },
      "source": [
        "slices_text[sample]"
      ],
      "execution_count": null,
      "outputs": []
    },
    {
      "cell_type": "code",
      "metadata": {
        "id": "f1CyRqQByyTf"
      },
      "source": [
        "Audio(slices[sample],rate=sr,autoplay=True)\n"
      ],
      "execution_count": null,
      "outputs": []
    },
    {
      "cell_type": "markdown",
      "metadata": {
        "id": "sy0FNkGaCUe0"
      },
      "source": [
        "# **Block merging for data collecting**"
      ]
    },
    {
      "cell_type": "code",
      "metadata": {
        "id": "7NdrCeN11bOd"
      },
      "source": [
        ""
      ],
      "execution_count": null,
      "outputs": []
    }
  ]
}